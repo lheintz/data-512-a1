{
 "cells": [
  {
   "cell_type": "markdown",
   "metadata": {},
   "source": [
    "# <center> HW Assignment 1</center>\n",
    "<center> Data Curation </center>\n",
    "<center> Lauren Heintz </center>\n",
    "<center> DATA 512, Fall 2019 </center>\n",
    "<center> Due 10/3/19 </center>"
   ]
  },
  {
   "cell_type": "markdown",
   "metadata": {},
   "source": [
    "## I. Data Acquisition\n",
    "### Set Up\n",
    "Data must be acquired from two end points: the Legacy Pagecounts API and Pageviews API.  \n",
    "**Legacy Pagecounts API** provides access to desktop and mobile traffic data from December 2007 through July 2016.  \n",
    "**Pageviews API** provides access to desktop, mobile web, and mobile app traffic data from July 2015 through last month.   \n",
    "In total, we will generate 5 different jsons through 5 api calls.  \n",
    "``pagecounts_desktop-site_200712-201608.json  \n",
    "pagecounts_mobile-site_201410-201608.json  \n",
    "pageviews_mobile-web_201507-201908.json    \n",
    "pageviews_mobile-app_201507-201908.json   \n",
    "pageviews_desktop-201507-201908.json``  \n",
    "\n",
    "This naming structure follows the convention: `apiname_accesstype_firstmonth-lastmonth.json`. Dates are approximate right now based on information provided in slides. Exact months of valid data are yet to be determined."
   ]
  },
  {
   "cell_type": "markdown",
   "metadata": {},
   "source": [
    "The following code has been created in part using the re-useable code in [CC0 license](https://creativecommons.org/share-your-work/public-domain/cc0/).  \n",
    "\n",
    "First, import libraries. Then, create a personal header. This will be used for both APIs."
   ]
  },
  {
   "cell_type": "code",
   "execution_count": 90,
   "metadata": {},
   "outputs": [],
   "source": [
    "import json\n",
    "import requests"
   ]
  },
  {
   "cell_type": "code",
   "execution_count": 92,
   "metadata": {},
   "outputs": [],
   "source": [
    "# Customize these with your own information\n",
    "headers = {\n",
    "    'User-Agent': 'https://github.com/lheintz',\n",
    "    'From': 'heintzl@uw.edu'\n",
    "}"
   ]
  },
  {
   "cell_type": "markdown",
   "metadata": {},
   "source": [
    "Next, create an apicall function which can be used for multiple combinations of endpoints and parameters."
   ]
  },
  {
   "cell_type": "code",
   "execution_count": 94,
   "metadata": {},
   "outputs": [],
   "source": [
    "def api_call(endpoint,parameters):\n",
    "    call = requests.get(endpoint.format(**parameters), headers=headers)\n",
    "    response = call.json()\n",
    "    \n",
    "    return response"
   ]
  },
  {
   "cell_type": "markdown",
   "metadata": {},
   "source": [
    "### Legacy Pagecounts\n",
    "Next, we will create an endpoint to the Legacy API connection (also knowns as Pagecounts)."
   ]
  },
  {
   "cell_type": "code",
   "execution_count": 96,
   "metadata": {},
   "outputs": [],
   "source": [
    "endpoint_legacy = 'https://wikimedia.org/api/rest_v1/metrics/legacy/pagecounts/aggregate/{project}/{access-site}/{granularity}/{start}/{end}'\n"
   ]
  },
  {
   "cell_type": "markdown",
   "metadata": {},
   "source": [
    "#### Desktop\n",
    "Then we create the parameters to pull the desktop data. This is called through the API and then saved."
   ]
  },
  {
   "cell_type": "code",
   "execution_count": 98,
   "metadata": {},
   "outputs": [],
   "source": [
    "# parameters for getting aggregated legacy view data \n",
    "# see: https://wikimedia.org/api/rest_v1/#!/Legacy_data/get_metrics_legacy_pagecounts_aggregate_project_access_site_granularity_start_end\n",
    "desktop_params_legacy = {\"project\" : \"en.wikipedia.org\",\n",
    "                 \"access-site\" : \"desktop-site\",\n",
    "                 \"granularity\" : \"monthly\",\n",
    "                 \"start\" : \"2007120100\",\n",
    "                # for end use 1st day of month following final month of data\n",
    "                 \"end\" : \"2019090100\"\n",
    "                    }"
   ]
  },
  {
   "cell_type": "code",
   "execution_count": 100,
   "metadata": {},
   "outputs": [],
   "source": [
    "desktop_monthly_legacy = api_call(endpoint_legacy, desktop_params_legacy)"
   ]
  },
  {
   "cell_type": "code",
   "execution_count": 101,
   "metadata": {},
   "outputs": [],
   "source": [
    "#print(desktop_monthly_legacy)"
   ]
  },
  {
   "cell_type": "markdown",
   "metadata": {},
   "source": [
    "Save output file after checking to see if it looks right. Note the first and last timestamp and include these in the filename for the json"
   ]
  },
  {
   "cell_type": "code",
   "execution_count": 104,
   "metadata": {},
   "outputs": [],
   "source": [
    "with open('pagecounts_desktop-site_200712-201608.json', 'w') as json_file:\n",
    "    json.dump(desktop_monthly_legacy, json_file)"
   ]
  },
  {
   "cell_type": "markdown",
   "metadata": {},
   "source": [
    "#### Mobile\n",
    "Then we create the parameters to pull the mobile data. This is called through the API and then saved."
   ]
  },
  {
   "cell_type": "code",
   "execution_count": 105,
   "metadata": {},
   "outputs": [],
   "source": [
    "# parameters for getting aggregated legacy view data \n",
    "# see: https://wikimedia.org/api/rest_v1/#!/Legacy_data/get_metrics_legacy_pagecounts_aggregate_project_access_site_granularity_start_end\n",
    "mobile_params_legacy = {\"project\" : \"en.wikipedia.org\",\n",
    "                 \"access-site\" : \"mobile-site\",\n",
    "                 \"granularity\" : \"monthly\",\n",
    "                 \"start\" : \"2007120100\",\n",
    "                # for end use 1st day of month following final month of data\n",
    "                 \"end\" : \"2019090100\"\n",
    "                    }"
   ]
  },
  {
   "cell_type": "code",
   "execution_count": 106,
   "metadata": {},
   "outputs": [],
   "source": [
    "mobile_monthly_legacy = api_call(endpoint_legacy, mobile_params_legacy)"
   ]
  },
  {
   "cell_type": "code",
   "execution_count": 66,
   "metadata": {},
   "outputs": [],
   "source": [
    "#print(mobile_monthly_legacy)"
   ]
  },
  {
   "cell_type": "markdown",
   "metadata": {},
   "source": [
    "Save output file after checking to see if it looks right. Note the first and last timestamp and include these in the filename for the json"
   ]
  },
  {
   "cell_type": "code",
   "execution_count": 107,
   "metadata": {},
   "outputs": [],
   "source": [
    "with open('pagecounts_mobile-site_201410-201608.json', 'w') as json_file:\n",
    "    json.dump(mobile_monthly_legacy, json_file)"
   ]
  },
  {
   "cell_type": "markdown",
   "metadata": {},
   "source": [
    "### Pageviews\n",
    "Next, we will create an endpoint to the Pageviews API connection."
   ]
  },
  {
   "cell_type": "code",
   "execution_count": 108,
   "metadata": {},
   "outputs": [],
   "source": [
    "endpoint_pageviews = 'https://wikimedia.org/api/rest_v1/metrics/pageviews/aggregate/{project}/{access}/{agent}/{granularity}/{start}/{end}'\n"
   ]
  },
  {
   "cell_type": "markdown",
   "metadata": {},
   "source": [
    "#### Desktop \n",
    "Then we create the parameters to pull the desktop data. This is called through the API and then saved."
   ]
  },
  {
   "cell_type": "code",
   "execution_count": 109,
   "metadata": {},
   "outputs": [],
   "source": [
    "# SAMPLE parameters for getting aggregated current standard pageview data\n",
    "# see: https://wikimedia.org/api/rest_v1/#!/Pageviews_data/get_metrics_pageviews_aggregate_project_access_agent_granularity_start_end\n",
    "desktop_params_pageviews = {\"project\" : \"en.wikipedia.org\",\n",
    "                    \"access\" : \"desktop\",\n",
    "                    \"agent\" : \"user\",\n",
    "                    \"granularity\" : \"monthly\",\n",
    "                    \"start\" : \"2001010100\",\n",
    "                    # for end use 1st day of month following final month of data\n",
    "                    \"end\" : '2019090100'\n",
    "                        }"
   ]
  },
  {
   "cell_type": "code",
   "execution_count": 110,
   "metadata": {},
   "outputs": [],
   "source": [
    "desktop_monthly_pageviews = api_call(endpoint_pageviews, desktop_params_pageviews)"
   ]
  },
  {
   "cell_type": "code",
   "execution_count": 111,
   "metadata": {
    "scrolled": true
   },
   "outputs": [],
   "source": [
    "#print(desktop_monthly_pageviews)"
   ]
  },
  {
   "cell_type": "markdown",
   "metadata": {},
   "source": [
    "Save output file after checking to see if it looks right. Note the first and last timestamp and include these in the filename for the json."
   ]
  },
  {
   "cell_type": "code",
   "execution_count": 112,
   "metadata": {},
   "outputs": [],
   "source": [
    "with open('pageviews_desktop-201507-201908.json', 'w') as json_file:\n",
    "    json.dump(desktop_monthly_pageviews, json_file)\n"
   ]
  },
  {
   "cell_type": "markdown",
   "metadata": {},
   "source": [
    "#### Mobile Web \n",
    "Then we create the parameters to pull the mobile web data. This is called through the API and then saved."
   ]
  },
  {
   "cell_type": "code",
   "execution_count": 113,
   "metadata": {},
   "outputs": [],
   "source": [
    "# SAMPLE parameters for getting aggregated current standard pageview data\n",
    "# see: https://wikimedia.org/api/rest_v1/#!/Pageviews_data/get_metrics_pageviews_aggregate_project_access_agent_granularity_start_end\n",
    "mobileweb_params_pageviews = {\"project\" : \"en.wikipedia.org\",\n",
    "                    \"access\" : \"mobile-web\",\n",
    "                    \"agent\" : \"user\",\n",
    "                    \"granularity\" : \"monthly\",\n",
    "                    \"start\" : \"2001010100\",\n",
    "                    # for end use 1st day of month following final month of data\n",
    "                    \"end\" : '2019090100'\n",
    "                        }"
   ]
  },
  {
   "cell_type": "code",
   "execution_count": 114,
   "metadata": {},
   "outputs": [],
   "source": [
    "mobileweb_monthly_pageviews = api_call(endpoint_pageviews, mobileweb_params_pageviews)"
   ]
  },
  {
   "cell_type": "code",
   "execution_count": 115,
   "metadata": {
    "scrolled": true
   },
   "outputs": [],
   "source": [
    "#print(mobileweb_monthly_pageviews)"
   ]
  },
  {
   "cell_type": "markdown",
   "metadata": {},
   "source": [
    "Save output file after checking to see if it looks right. Note the first and last timestamp and include these in the filename for the json."
   ]
  },
  {
   "cell_type": "code",
   "execution_count": 116,
   "metadata": {},
   "outputs": [],
   "source": [
    "with open('pageviews_mobile-web_201507-201908.json', 'w') as json_file:\n",
    "    json.dump(mobileweb_monthly_pageviews, json_file)\n"
   ]
  },
  {
   "cell_type": "markdown",
   "metadata": {},
   "source": [
    "#### Mobile App \n",
    "Then we create the parameters to pull the mobile app data. This is called through the API and then saved."
   ]
  },
  {
   "cell_type": "code",
   "execution_count": 117,
   "metadata": {},
   "outputs": [],
   "source": [
    "# SAMPLE parameters for getting aggregated current standard pageview data\n",
    "# see: https://wikimedia.org/api/rest_v1/#!/Pageviews_data/get_metrics_pageviews_aggregate_project_access_agent_granularity_start_end\n",
    "mobileapp_params_pageviews = {\"project\" : \"en.wikipedia.org\",\n",
    "                    \"access\" : \"mobile-app\",\n",
    "                    \"agent\" : \"user\",\n",
    "                    \"granularity\" : \"monthly\",\n",
    "                    \"start\" : \"2001010100\",\n",
    "                    # for end use 1st day of month following final month of data\n",
    "                    \"end\" : '2019090100'\n",
    "                        }"
   ]
  },
  {
   "cell_type": "code",
   "execution_count": 118,
   "metadata": {},
   "outputs": [],
   "source": [
    "mobileapp_monthly_pageviews = api_call(endpoint_pageviews, mobileapp_params_pageviews)"
   ]
  },
  {
   "cell_type": "code",
   "execution_count": 119,
   "metadata": {},
   "outputs": [],
   "source": [
    "#print(mobileapp_monthly_pageviews)"
   ]
  },
  {
   "cell_type": "markdown",
   "metadata": {},
   "source": [
    "Save output file after checking to see if it looks right. Note the first and last timestamp and include these in the filename for the json."
   ]
  },
  {
   "cell_type": "code",
   "execution_count": 121,
   "metadata": {},
   "outputs": [],
   "source": [
    "with open('pageviews_mobile-app_201507-201908.json', 'w') as json_file:\n",
    "    json.dump(mobileapp_monthly_pageviews, json_file)"
   ]
  },
  {
   "cell_type": "markdown",
   "metadata": {},
   "source": [
    "## II. Data Processing"
   ]
  },
  {
   "cell_type": "markdown",
   "metadata": {},
   "source": [
    "Next, we will move on to data processing. The goal is to unite all the json files in to one csv for analysis.  \n",
    "\n",
    "We will first import the necessary libraries."
   ]
  },
  {
   "cell_type": "code",
   "execution_count": 129,
   "metadata": {},
   "outputs": [],
   "source": [
    "import pandas as pd\n",
    "from pandas.io.json import json_normalize  "
   ]
  },
  {
   "cell_type": "code",
   "execution_count": 131,
   "metadata": {},
   "outputs": [
    {
     "data": {
      "text/plain": [
       "<bound method NDFrame.head of                                                 items\n",
       "0   {'project': 'en.wikipedia', 'access': 'mobile-...\n",
       "1   {'project': 'en.wikipedia', 'access': 'mobile-...\n",
       "2   {'project': 'en.wikipedia', 'access': 'mobile-...\n",
       "3   {'project': 'en.wikipedia', 'access': 'mobile-...\n",
       "4   {'project': 'en.wikipedia', 'access': 'mobile-...\n",
       "5   {'project': 'en.wikipedia', 'access': 'mobile-...\n",
       "6   {'project': 'en.wikipedia', 'access': 'mobile-...\n",
       "7   {'project': 'en.wikipedia', 'access': 'mobile-...\n",
       "8   {'project': 'en.wikipedia', 'access': 'mobile-...\n",
       "9   {'project': 'en.wikipedia', 'access': 'mobile-...\n",
       "10  {'project': 'en.wikipedia', 'access': 'mobile-...\n",
       "11  {'project': 'en.wikipedia', 'access': 'mobile-...\n",
       "12  {'project': 'en.wikipedia', 'access': 'mobile-...\n",
       "13  {'project': 'en.wikipedia', 'access': 'mobile-...\n",
       "14  {'project': 'en.wikipedia', 'access': 'mobile-...\n",
       "15  {'project': 'en.wikipedia', 'access': 'mobile-...\n",
       "16  {'project': 'en.wikipedia', 'access': 'mobile-...\n",
       "17  {'project': 'en.wikipedia', 'access': 'mobile-...\n",
       "18  {'project': 'en.wikipedia', 'access': 'mobile-...\n",
       "19  {'project': 'en.wikipedia', 'access': 'mobile-...\n",
       "20  {'project': 'en.wikipedia', 'access': 'mobile-...\n",
       "21  {'project': 'en.wikipedia', 'access': 'mobile-...\n",
       "22  {'project': 'en.wikipedia', 'access': 'mobile-...\n",
       "23  {'project': 'en.wikipedia', 'access': 'mobile-...\n",
       "24  {'project': 'en.wikipedia', 'access': 'mobile-...\n",
       "25  {'project': 'en.wikipedia', 'access': 'mobile-...\n",
       "26  {'project': 'en.wikipedia', 'access': 'mobile-...\n",
       "27  {'project': 'en.wikipedia', 'access': 'mobile-...\n",
       "28  {'project': 'en.wikipedia', 'access': 'mobile-...\n",
       "29  {'project': 'en.wikipedia', 'access': 'mobile-...\n",
       "30  {'project': 'en.wikipedia', 'access': 'mobile-...\n",
       "31  {'project': 'en.wikipedia', 'access': 'mobile-...\n",
       "32  {'project': 'en.wikipedia', 'access': 'mobile-...\n",
       "33  {'project': 'en.wikipedia', 'access': 'mobile-...\n",
       "34  {'project': 'en.wikipedia', 'access': 'mobile-...\n",
       "35  {'project': 'en.wikipedia', 'access': 'mobile-...\n",
       "36  {'project': 'en.wikipedia', 'access': 'mobile-...\n",
       "37  {'project': 'en.wikipedia', 'access': 'mobile-...\n",
       "38  {'project': 'en.wikipedia', 'access': 'mobile-...\n",
       "39  {'project': 'en.wikipedia', 'access': 'mobile-...\n",
       "40  {'project': 'en.wikipedia', 'access': 'mobile-...\n",
       "41  {'project': 'en.wikipedia', 'access': 'mobile-...\n",
       "42  {'project': 'en.wikipedia', 'access': 'mobile-...\n",
       "43  {'project': 'en.wikipedia', 'access': 'mobile-...\n",
       "44  {'project': 'en.wikipedia', 'access': 'mobile-...\n",
       "45  {'project': 'en.wikipedia', 'access': 'mobile-...\n",
       "46  {'project': 'en.wikipedia', 'access': 'mobile-...\n",
       "47  {'project': 'en.wikipedia', 'access': 'mobile-...\n",
       "48  {'project': 'en.wikipedia', 'access': 'mobile-...\n",
       "49  {'project': 'en.wikipedia', 'access': 'mobile-...>"
      ]
     },
     "execution_count": 131,
     "metadata": {},
     "output_type": "execute_result"
    }
   ],
   "source": [
    "df = pd.read_json ('pageviews_mobile-web_201507-201908.json')\n",
    "df.head"
   ]
  },
  {
   "cell_type": "code",
   "execution_count": 171,
   "metadata": {},
   "outputs": [
    {
     "data": {
      "text/html": [
       "<div>\n",
       "<style scoped>\n",
       "    .dataframe tbody tr th:only-of-type {\n",
       "        vertical-align: middle;\n",
       "    }\n",
       "\n",
       "    .dataframe tbody tr th {\n",
       "        vertical-align: top;\n",
       "    }\n",
       "\n",
       "    .dataframe thead th {\n",
       "        text-align: right;\n",
       "    }\n",
       "</style>\n",
       "<table border=\"1\" class=\"dataframe\">\n",
       "  <thead>\n",
       "    <tr style=\"text-align: right;\">\n",
       "      <th></th>\n",
       "      <th>timestamp</th>\n",
       "      <th>mobile-web</th>\n",
       "    </tr>\n",
       "  </thead>\n",
       "  <tbody>\n",
       "    <tr>\n",
       "      <th>0</th>\n",
       "      <td>2015070100</td>\n",
       "      <td>3179131148</td>\n",
       "    </tr>\n",
       "    <tr>\n",
       "      <th>1</th>\n",
       "      <td>2015080100</td>\n",
       "      <td>3192663889</td>\n",
       "    </tr>\n",
       "    <tr>\n",
       "      <th>2</th>\n",
       "      <td>2015090100</td>\n",
       "      <td>3073981649</td>\n",
       "    </tr>\n",
       "    <tr>\n",
       "      <th>3</th>\n",
       "      <td>2015100100</td>\n",
       "      <td>3173975355</td>\n",
       "    </tr>\n",
       "    <tr>\n",
       "      <th>4</th>\n",
       "      <td>2015110100</td>\n",
       "      <td>3142247145</td>\n",
       "    </tr>\n",
       "    <tr>\n",
       "      <th>5</th>\n",
       "      <td>2015120100</td>\n",
       "      <td>3276836351</td>\n",
       "    </tr>\n",
       "  </tbody>\n",
       "</table>\n",
       "</div>"
      ],
      "text/plain": [
       "    timestamp  mobile-web\n",
       "0  2015070100  3179131148\n",
       "1  2015080100  3192663889\n",
       "2  2015090100  3073981649\n",
       "3  2015100100  3173975355\n",
       "4  2015110100  3142247145\n",
       "5  2015120100  3276836351"
      ]
     },
     "execution_count": 171,
     "metadata": {},
     "output_type": "execute_result"
    }
   ],
   "source": [
    "with open('pageviews_mobile-web_201507-201908.json') as f: \n",
    "    df = json.load(f) \n",
    "    \n",
    "pv_mob_web = json_normalize(df['items'])\n",
    "pv_mob_web = pv_mob_web.rename(columns={'views': 'mobile-web'})\n",
    "pv_mob_web = pv_mob_web.drop(columns = ['project', 'agent', 'granularity', 'access'])\n",
    "pv_mob_web.head(6)"
   ]
  },
  {
   "cell_type": "code",
   "execution_count": 161,
   "metadata": {},
   "outputs": [
    {
     "data": {
      "text/plain": [
       "(50, 2)"
      ]
     },
     "execution_count": 161,
     "metadata": {},
     "output_type": "execute_result"
    }
   ],
   "source": [
    "pv_mob_web.shape"
   ]
  },
  {
   "cell_type": "code",
   "execution_count": 172,
   "metadata": {},
   "outputs": [
    {
     "data": {
      "text/html": [
       "<div>\n",
       "<style scoped>\n",
       "    .dataframe tbody tr th:only-of-type {\n",
       "        vertical-align: middle;\n",
       "    }\n",
       "\n",
       "    .dataframe tbody tr th {\n",
       "        vertical-align: top;\n",
       "    }\n",
       "\n",
       "    .dataframe thead th {\n",
       "        text-align: right;\n",
       "    }\n",
       "</style>\n",
       "<table border=\"1\" class=\"dataframe\">\n",
       "  <thead>\n",
       "    <tr style=\"text-align: right;\">\n",
       "      <th></th>\n",
       "      <th>timestamp</th>\n",
       "      <th>mobile-app</th>\n",
       "    </tr>\n",
       "  </thead>\n",
       "  <tbody>\n",
       "    <tr>\n",
       "      <th>0</th>\n",
       "      <td>2015070100</td>\n",
       "      <td>109624146</td>\n",
       "    </tr>\n",
       "    <tr>\n",
       "      <th>1</th>\n",
       "      <td>2015080100</td>\n",
       "      <td>109669149</td>\n",
       "    </tr>\n",
       "    <tr>\n",
       "      <th>2</th>\n",
       "      <td>2015090100</td>\n",
       "      <td>96221684</td>\n",
       "    </tr>\n",
       "    <tr>\n",
       "      <th>3</th>\n",
       "      <td>2015100100</td>\n",
       "      <td>94523777</td>\n",
       "    </tr>\n",
       "    <tr>\n",
       "      <th>4</th>\n",
       "      <td>2015110100</td>\n",
       "      <td>94353925</td>\n",
       "    </tr>\n",
       "    <tr>\n",
       "      <th>5</th>\n",
       "      <td>2015120100</td>\n",
       "      <td>99438956</td>\n",
       "    </tr>\n",
       "  </tbody>\n",
       "</table>\n",
       "</div>"
      ],
      "text/plain": [
       "    timestamp  mobile-app\n",
       "0  2015070100   109624146\n",
       "1  2015080100   109669149\n",
       "2  2015090100    96221684\n",
       "3  2015100100    94523777\n",
       "4  2015110100    94353925\n",
       "5  2015120100    99438956"
      ]
     },
     "execution_count": 172,
     "metadata": {},
     "output_type": "execute_result"
    }
   ],
   "source": [
    "with open('pageviews_mobile-app_201507-201908.json') as f: \n",
    "    df = json.load(f) \n",
    "    \n",
    "pv_mob_app = json_normalize(df['items'])\n",
    "pv_mob_app = pv_mob_app.rename(columns={'views': 'mobile-app'})\n",
    "pv_mob_app = pv_mob_app.drop(columns = ['project', 'agent', 'granularity', 'access'])\n",
    "pv_mob_app.head(6)"
   ]
  },
  {
   "cell_type": "code",
   "execution_count": 162,
   "metadata": {},
   "outputs": [
    {
     "data": {
      "text/plain": [
       "(50, 2)"
      ]
     },
     "execution_count": 162,
     "metadata": {},
     "output_type": "execute_result"
    }
   ],
   "source": [
    "pv_mob_app.shape"
   ]
  },
  {
   "cell_type": "code",
   "execution_count": 183,
   "metadata": {},
   "outputs": [
    {
     "data": {
      "text/html": [
       "<div>\n",
       "<style scoped>\n",
       "    .dataframe tbody tr th:only-of-type {\n",
       "        vertical-align: middle;\n",
       "    }\n",
       "\n",
       "    .dataframe tbody tr th {\n",
       "        vertical-align: top;\n",
       "    }\n",
       "\n",
       "    .dataframe thead th {\n",
       "        text-align: right;\n",
       "    }\n",
       "</style>\n",
       "<table border=\"1\" class=\"dataframe\">\n",
       "  <thead>\n",
       "    <tr style=\"text-align: right;\">\n",
       "      <th></th>\n",
       "      <th>timestamp</th>\n",
       "      <th>pageview_mobile_views</th>\n",
       "    </tr>\n",
       "  </thead>\n",
       "  <tbody>\n",
       "    <tr>\n",
       "      <th>0</th>\n",
       "      <td>2015070100</td>\n",
       "      <td>3288755294</td>\n",
       "    </tr>\n",
       "    <tr>\n",
       "      <th>1</th>\n",
       "      <td>2015080100</td>\n",
       "      <td>3302333038</td>\n",
       "    </tr>\n",
       "    <tr>\n",
       "      <th>2</th>\n",
       "      <td>2015090100</td>\n",
       "      <td>3170203333</td>\n",
       "    </tr>\n",
       "    <tr>\n",
       "      <th>3</th>\n",
       "      <td>2015100100</td>\n",
       "      <td>3268499132</td>\n",
       "    </tr>\n",
       "    <tr>\n",
       "      <th>4</th>\n",
       "      <td>2015110100</td>\n",
       "      <td>3236601070</td>\n",
       "    </tr>\n",
       "    <tr>\n",
       "      <th>5</th>\n",
       "      <td>2015120100</td>\n",
       "      <td>3376275307</td>\n",
       "    </tr>\n",
       "    <tr>\n",
       "      <th>6</th>\n",
       "      <td>2016010100</td>\n",
       "      <td>3717836846</td>\n",
       "    </tr>\n",
       "    <tr>\n",
       "      <th>7</th>\n",
       "      <td>2016020100</td>\n",
       "      <td>3334862272</td>\n",
       "    </tr>\n",
       "    <tr>\n",
       "      <th>8</th>\n",
       "      <td>2016030100</td>\n",
       "      <td>3386684191</td>\n",
       "    </tr>\n",
       "    <tr>\n",
       "      <th>9</th>\n",
       "      <td>2016040100</td>\n",
       "      <td>3258764002</td>\n",
       "    </tr>\n",
       "  </tbody>\n",
       "</table>\n",
       "</div>"
      ],
      "text/plain": [
       "    timestamp  pageview_mobile_views\n",
       "0  2015070100             3288755294\n",
       "1  2015080100             3302333038\n",
       "2  2015090100             3170203333\n",
       "3  2015100100             3268499132\n",
       "4  2015110100             3236601070\n",
       "5  2015120100             3376275307\n",
       "6  2016010100             3717836846\n",
       "7  2016020100             3334862272\n",
       "8  2016030100             3386684191\n",
       "9  2016040100             3258764002"
      ]
     },
     "execution_count": 183,
     "metadata": {},
     "output_type": "execute_result"
    }
   ],
   "source": [
    "pv_df = pd.concat([pv_mob_web['timestamp'], pv_mob_web['mobile-web'], pv_mob_app['mobile-app']], axis = 1)\n",
    "pv_df['mobile-total'] = pv_df['mobile-web'] + pv_df['mobile-app']\n",
    "pv_df = pv_df.rename(columns={'mobile-total': 'pageview_mobile_views'})\n",
    "pv_df = pv_df.drop(columns = ['mobile-web', 'mobile-app'])\n",
    "pv_df.head(10)"
   ]
  },
  {
   "cell_type": "code",
   "execution_count": 181,
   "metadata": {},
   "outputs": [
    {
     "data": {
      "text/html": [
       "<div>\n",
       "<style scoped>\n",
       "    .dataframe tbody tr th:only-of-type {\n",
       "        vertical-align: middle;\n",
       "    }\n",
       "\n",
       "    .dataframe tbody tr th {\n",
       "        vertical-align: top;\n",
       "    }\n",
       "\n",
       "    .dataframe thead th {\n",
       "        text-align: right;\n",
       "    }\n",
       "</style>\n",
       "<table border=\"1\" class=\"dataframe\">\n",
       "  <thead>\n",
       "    <tr style=\"text-align: right;\">\n",
       "      <th></th>\n",
       "      <th>timestamp</th>\n",
       "      <th>pageview_desktop_views</th>\n",
       "    </tr>\n",
       "  </thead>\n",
       "  <tbody>\n",
       "    <tr>\n",
       "      <th>0</th>\n",
       "      <td>2015070100</td>\n",
       "      <td>4376666686</td>\n",
       "    </tr>\n",
       "    <tr>\n",
       "      <th>1</th>\n",
       "      <td>2015080100</td>\n",
       "      <td>4332482183</td>\n",
       "    </tr>\n",
       "    <tr>\n",
       "      <th>2</th>\n",
       "      <td>2015090100</td>\n",
       "      <td>4485491704</td>\n",
       "    </tr>\n",
       "    <tr>\n",
       "      <th>3</th>\n",
       "      <td>2015100100</td>\n",
       "      <td>4477532755</td>\n",
       "    </tr>\n",
       "    <tr>\n",
       "      <th>4</th>\n",
       "      <td>2015110100</td>\n",
       "      <td>4287720220</td>\n",
       "    </tr>\n",
       "    <tr>\n",
       "      <th>5</th>\n",
       "      <td>2015120100</td>\n",
       "      <td>4100012037</td>\n",
       "    </tr>\n",
       "  </tbody>\n",
       "</table>\n",
       "</div>"
      ],
      "text/plain": [
       "    timestamp  pageview_desktop_views\n",
       "0  2015070100              4376666686\n",
       "1  2015080100              4332482183\n",
       "2  2015090100              4485491704\n",
       "3  2015100100              4477532755\n",
       "4  2015110100              4287720220\n",
       "5  2015120100              4100012037"
      ]
     },
     "execution_count": 181,
     "metadata": {},
     "output_type": "execute_result"
    }
   ],
   "source": [
    "with open('pageviews_desktop-201507-201908.json') as f: \n",
    "    df = json.load(f) \n",
    "    \n",
    "pv_desk = json_normalize(df['items'])\n",
    "pv_desk = pv_desk.rename(columns={'views': 'pageview_desktop_views'})\n",
    "pv_desk = pv_desk.drop(columns = ['project', 'agent', 'granularity', 'access'])\n",
    "pv_desk.head(6)"
   ]
  },
  {
   "cell_type": "code",
   "execution_count": 184,
   "metadata": {},
   "outputs": [
    {
     "data": {
      "text/html": [
       "<div>\n",
       "<style scoped>\n",
       "    .dataframe tbody tr th:only-of-type {\n",
       "        vertical-align: middle;\n",
       "    }\n",
       "\n",
       "    .dataframe tbody tr th {\n",
       "        vertical-align: top;\n",
       "    }\n",
       "\n",
       "    .dataframe thead th {\n",
       "        text-align: right;\n",
       "    }\n",
       "</style>\n",
       "<table border=\"1\" class=\"dataframe\">\n",
       "  <thead>\n",
       "    <tr style=\"text-align: right;\">\n",
       "      <th></th>\n",
       "      <th>timestamp</th>\n",
       "      <th>pageview_mobile_views</th>\n",
       "      <th>pageview_desktop_views</th>\n",
       "    </tr>\n",
       "  </thead>\n",
       "  <tbody>\n",
       "    <tr>\n",
       "      <th>0</th>\n",
       "      <td>2015070100</td>\n",
       "      <td>3288755294</td>\n",
       "      <td>4376666686</td>\n",
       "    </tr>\n",
       "    <tr>\n",
       "      <th>1</th>\n",
       "      <td>2015080100</td>\n",
       "      <td>3302333038</td>\n",
       "      <td>4332482183</td>\n",
       "    </tr>\n",
       "    <tr>\n",
       "      <th>2</th>\n",
       "      <td>2015090100</td>\n",
       "      <td>3170203333</td>\n",
       "      <td>4485491704</td>\n",
       "    </tr>\n",
       "    <tr>\n",
       "      <th>3</th>\n",
       "      <td>2015100100</td>\n",
       "      <td>3268499132</td>\n",
       "      <td>4477532755</td>\n",
       "    </tr>\n",
       "    <tr>\n",
       "      <th>4</th>\n",
       "      <td>2015110100</td>\n",
       "      <td>3236601070</td>\n",
       "      <td>4287720220</td>\n",
       "    </tr>\n",
       "    <tr>\n",
       "      <th>5</th>\n",
       "      <td>2015120100</td>\n",
       "      <td>3376275307</td>\n",
       "      <td>4100012037</td>\n",
       "    </tr>\n",
       "    <tr>\n",
       "      <th>6</th>\n",
       "      <td>2016010100</td>\n",
       "      <td>3717836846</td>\n",
       "      <td>4436179457</td>\n",
       "    </tr>\n",
       "    <tr>\n",
       "      <th>7</th>\n",
       "      <td>2016020100</td>\n",
       "      <td>3334862272</td>\n",
       "      <td>4250997185</td>\n",
       "    </tr>\n",
       "    <tr>\n",
       "      <th>8</th>\n",
       "      <td>2016030100</td>\n",
       "      <td>3386684191</td>\n",
       "      <td>4286590426</td>\n",
       "    </tr>\n",
       "    <tr>\n",
       "      <th>9</th>\n",
       "      <td>2016040100</td>\n",
       "      <td>3258764002</td>\n",
       "      <td>4149383857</td>\n",
       "    </tr>\n",
       "  </tbody>\n",
       "</table>\n",
       "</div>"
      ],
      "text/plain": [
       "    timestamp  pageview_mobile_views  pageview_desktop_views\n",
       "0  2015070100             3288755294              4376666686\n",
       "1  2015080100             3302333038              4332482183\n",
       "2  2015090100             3170203333              4485491704\n",
       "3  2015100100             3268499132              4477532755\n",
       "4  2015110100             3236601070              4287720220\n",
       "5  2015120100             3376275307              4100012037\n",
       "6  2016010100             3717836846              4436179457\n",
       "7  2016020100             3334862272              4250997185\n",
       "8  2016030100             3386684191              4286590426\n",
       "9  2016040100             3258764002              4149383857"
      ]
     },
     "execution_count": 184,
     "metadata": {},
     "output_type": "execute_result"
    }
   ],
   "source": [
    "pv_df = pd.concat([pv_df, pv_desk['pageview_desktop_views']], axis = 1)\n",
    "pv_df.head(10)"
   ]
  }
 ],
 "metadata": {
  "kernelspec": {
   "display_name": "Python 3",
   "language": "python",
   "name": "python3"
  },
  "language_info": {
   "codemirror_mode": {
    "name": "ipython",
    "version": 3
   },
   "file_extension": ".py",
   "mimetype": "text/x-python",
   "name": "python",
   "nbconvert_exporter": "python",
   "pygments_lexer": "ipython3",
   "version": "3.7.2"
  }
 },
 "nbformat": 4,
 "nbformat_minor": 2
}
